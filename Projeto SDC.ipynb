{
 "cells": [
  {
   "cell_type": "markdown",
   "metadata": {},
   "source": [
    "# Sistemas Dinâmicos e Controlo - Projeto"
   ]
  },
  {
   "cell_type": "code",
   "execution_count": 4,
   "metadata": {},
   "outputs": [],
   "source": [
    "import numpy as np"
   ]
  },
  {
   "cell_type": "code",
   "execution_count": 5,
   "metadata": {},
   "outputs": [],
   "source": [
    "m = 1.5 * 10 ** -1 # motorcycle mass\n",
    "g = 9.81 # gravity\n",
    "h = 8.0 * 10 ** -1 # height of center of mass\n",
    "I = 1.5 * 10 ** -2 # moment of inertia"
   ]
  },
  {
   "cell_type": "markdown",
   "metadata": {},
   "source": [
    "### Ex. 1"
   ]
  },
  {
   "cell_type": "markdown",
   "metadata": {},
   "source": [
    "$$ I \\ddot{\\theta} = mgh \\cdot sin(\\theta) + \\tau $$\n",
    "\n",
    "At small angles $ sin(\\theta) \\approx \\theta $.\n",
    "\n",
    "$$ I \\ddot{\\theta} = mgh \\cdot \\theta + \\tau $$\n",
    "\n",
    "$$ \\ddot{\\theta} = \\frac{mgh \\cdot \\theta}{I} + \\frac{\\tau}{I} $$\n",
    "\n",
    "$$ x = \\begin{bmatrix} \n",
    " \\theta \\\\\n",
    " \\dot{\\theta} \\\\\n",
    "\\end{bmatrix} \\Leftrightarrow \\dot{x} = \\begin{bmatrix} \n",
    " \\dot{\\theta} \\\\\n",
    " \\ddot{\\theta} \\\\\n",
    "\\end{bmatrix} \\Leftrightarrow \\dot{x} = \\begin{bmatrix} \n",
    " \\dot{\\theta} \\\\\n",
    " \\frac{mgh}{I}\\cdot \\theta + \\frac{\\tau}{I} \\\\\n",
    "\\end{bmatrix} \\Leftrightarrow \\dot{x} = \\begin{bmatrix} \n",
    " \\dot{\\theta} \\\\\n",
    " \\frac{mgh}{I}\\cdot \\theta \\\\\n",
    "\\end{bmatrix} + \\begin{bmatrix}\n",
    "0 \\\\\n",
    "\\frac{\\tau}{I}\n",
    "\\end{bmatrix} u \\Leftrightarrow \\dot{x} = \\begin{bmatrix} \n",
    " 0 & 1 \\\\\n",
    " \\frac{mgh}{I}  & 0\\\\\n",
    "\\end{bmatrix} \\begin{bmatrix}\n",
    " \\theta \\\\\n",
    " \\dot{\\theta}\n",
    "\\end{bmatrix} + \\begin{bmatrix}\n",
    "0 \\\\\n",
    "\\frac{\\tau}{I}\n",
    "\\end{bmatrix} u $$\n",
    "\n",
    "Since $ u = \\tau $:\n",
    "\n",
    "$$\n",
    "\\dot{x} = \\begin{bmatrix} \n",
    " 0 & 1 \\\\\n",
    " \\frac{mgh}{I}  & 0\\\\\n",
    "\\end{bmatrix} \\begin{bmatrix}\n",
    " \\theta \\\\\n",
    " \\dot{\\theta}\n",
    "\\end{bmatrix} + \\begin{bmatrix}\n",
    "0 \\\\\n",
    "I\n",
    "\\end{bmatrix} u $$\n",
    "\n",
    "\n"
   ]
  },
  {
   "cell_type": "code",
   "execution_count": null,
   "metadata": {},
   "outputs": [],
   "source": [
    "A = [[0,1],[m*g*h/I,0]]\n",
    "B = [0, 1/I]\n",
    "print(\"Matrix A: \", A)\n",
    "print(\"Matrix B: \", B)"
   ]
  },
  {
   "cell_type": "code",
   "execution_count": null,
   "metadata": {},
   "outputs": [],
   "source": []
  }
 ],
 "metadata": {
  "kernelspec": {
   "display_name": "base",
   "language": "python",
   "name": "python3"
  },
  "language_info": {
   "codemirror_mode": {
    "name": "ipython",
    "version": 3
   },
   "file_extension": ".py",
   "mimetype": "text/x-python",
   "name": "python",
   "nbconvert_exporter": "python",
   "pygments_lexer": "ipython3",
   "version": "3.9.13"
  }
 },
 "nbformat": 4,
 "nbformat_minor": 2
}
