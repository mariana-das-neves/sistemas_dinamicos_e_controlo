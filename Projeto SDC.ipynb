{
 "cells": [
  {
   "cell_type": "markdown",
   "metadata": {},
   "source": [
    "# Sistemas Dinâmicos e Controlo - Projeto"
   ]
  },
  {
   "cell_type": "code",
   "execution_count": 2,
   "metadata": {},
   "outputs": [],
   "source": [
    "import numpy as np"
   ]
  },
  {
   "cell_type": "code",
   "execution_count": 3,
   "metadata": {},
   "outputs": [],
   "source": [
    "m = 1.5 * 10 ** -1 # motorcycle mass\n",
    "g = 9.81 # gravity\n",
    "h = 8.0 * 10 ** -1 # height of center of mass\n",
    "I = 1.5 * 10 ** -2 # moment of inertia"
   ]
  },
  {
   "cell_type": "markdown",
   "metadata": {},
   "source": [
    "### Ex. 1"
   ]
  },
  {
   "cell_type": "markdown",
   "metadata": {},
   "source": [
    "$$ I \\ddot{\\theta} = mgh \\cdot sin(\\theta) + \\tau $$\n",
    "\n",
    "At small angles $ sin(\\theta) \\approx \\theta $.\n",
    "\n",
    "$$ I \\ddot{\\theta} = mgh \\cdot \\theta + \\tau $$\n",
    "\n",
    "$$ \\ddot{\\theta} = \\frac{mgh \\cdot \\theta}{I} + \\frac{\\tau}{I} $$\n",
    "\n",
    "$$ x = \\begin{bmatrix} \n",
    " \\theta \\\\\n",
    " \\dot{\\theta} \\\\\n",
    "\\end{bmatrix} \\Leftrightarrow \\dot{x} = \\begin{bmatrix} \n",
    " \\dot{\\theta} \\\\\n",
    " \\ddot{\\theta} \\\\\n",
    "\\end{bmatrix} \\Leftrightarrow \\dot{x} = \\begin{bmatrix} \n",
    " \\dot{\\theta} \\\\\n",
    " \\frac{mgh}{I}\\cdot \\theta + \\frac{\\tau}{I} \\\\\n",
    "\\end{bmatrix} \\Leftrightarrow \\dot{x} = \\begin{bmatrix} \n",
    " \\dot{\\theta} \\\\\n",
    " \\frac{mgh}{I}\\cdot \\theta \\\\\n",
    "\\end{bmatrix} + \\begin{bmatrix}\n",
    "0 \\\\\n",
    "\\frac{\\tau}{I}\n",
    "\\end{bmatrix} u \\Leftrightarrow \\dot{x} = \\begin{bmatrix} \n",
    " 0 & 1 \\\\\n",
    " \\frac{mgh}{I}  & 0\\\\\n",
    "\\end{bmatrix} \\begin{bmatrix}\n",
    " \\theta \\\\\n",
    " \\dot{\\theta}\n",
    "\\end{bmatrix} + \\begin{bmatrix}\n",
    "0 \\\\\n",
    "\\frac{\\tau}{I}\n",
    "\\end{bmatrix} u $$\n",
    "\n",
    "Since $ u = \\tau $:\n",
    "\n",
    "$$\n",
    "\\dot{x} = \\begin{bmatrix} \n",
    " 0 & 1 \\\\\n",
    " \\frac{mgh}{I}  & 0\\\\\n",
    "\\end{bmatrix} \\begin{bmatrix}\n",
    " \\theta \\\\\n",
    " \\dot{\\theta}\n",
    "\\end{bmatrix} + \\begin{bmatrix}\n",
    "0 \\\\\n",
    "I\n",
    "\\end{bmatrix} u $$\n",
    "\n",
    "$$ y = C \\cdot x \\Leftrightarrow y = C \\cdot \\begin{bmatrix}\n",
    "\\theta \\\\ \\dot \\theta\n",
    "\\end{bmatrix} \\Leftrightarrow y = \\begin{bmatrix}\n",
    "1 & 0 \\\\\n",
    "0 & 1 \\\\\n",
    "\\end{bmatrix} \\cdot \\begin{bmatrix}\n",
    "\\theta \\\\ \\dot \\theta\n",
    "\\end{bmatrix} \\Leftrightarrow C = \\begin{bmatrix}\n",
    "1 & 0 \\\\\n",
    "0 & 1 \\\\\n",
    "\\end{bmatrix} $$\n",
    " \n"
   ]
  },
  {
   "cell_type": "code",
   "execution_count": 15,
   "metadata": {},
   "outputs": [
    {
     "name": "stdout",
     "output_type": "stream",
     "text": [
      "Matrix A:  [[0, 1], [78.48000000000002, 0]]\n",
      "Matrix B:  [0, 66.66666666666667]\n",
      "Matrix C:  [[1, 0], [0, 1]]\n"
     ]
    }
   ],
   "source": [
    "A = [[0,1],[m*g*h/I,0]]\n",
    "B = [0, 1/I]\n",
    "C = [[1,0],[0,1]]\n",
    "print(\"Matrix A: \", A)\n",
    "print(\"Matrix B: \", B)\n",
    "print(\"Matrix C: \", C)"
   ]
  },
  {
   "cell_type": "code",
   "execution_count": null,
   "metadata": {},
   "outputs": [],
   "source": [
    "falta y = Cx"
   ]
  },
  {
   "cell_type": "markdown",
   "metadata": {},
   "source": [
    "### Ex.2"
   ]
  },
  {
   "cell_type": "markdown",
   "metadata": {},
   "source": [
    "Controlability Matrix:\n",
    "\n",
    "$$ Q = \\begin{bmatrix} B & AB & A^{2}B & ... & A^{n-1}B \\end{bmatrix} $$\n",
    "\n",
    "$ |Q| = 0 $, the system is controllable, $ |Q| \\neq 0 $, the system is not controllable."
   ]
  },
  {
   "cell_type": "code",
   "execution_count": 16,
   "metadata": {},
   "outputs": [
    {
     "name": "stdout",
     "output_type": "stream",
     "text": [
      "Controlability Matrix:  [[0, 66.66666666666667], array([66.66666667,  0.        ])]\n",
      "Determinant:  -4444.444444444446\n",
      "Rank:  2\n",
      "The system is not controllable\n",
      "The system is not controllable\n"
     ]
    }
   ],
   "source": [
    "n = 2\n",
    "AB = np.dot(A,B)\n",
    "Q = [B, AB]\n",
    "\n",
    "print(\"Controlability Matrix: \", Q)\n",
    "print(\"Determinant: \", np.linalg.det(Q))\n",
    "print(\"Rank: \", np.linalg.matrix_rank(Q))\n",
    "\n",
    "if np.linalg.det(Q) == 0:\n",
    "    print(\" The system is controllable\")\n",
    "else:\n",
    "    print(\"The system is not controllable\")\n",
    "\n",
    "if np.linalg.matrix_rank == n:\n",
    "    print(\"The system is controllable\")\n",
    "else:\n",
    "    print(\"The system is not controllable\")"
   ]
  },
  {
   "cell_type": "code",
   "execution_count": 21,
   "metadata": {},
   "outputs": [
    {
     "name": "stdout",
     "output_type": "stream",
     "text": [
      "Observability Matrix:  [[[[ 1.    0.  ]\n",
      "   [ 0.    1.  ]]]\n",
      "\n",
      "\n",
      " [[[ 0.    1.  ]\n",
      "   [78.48  0.  ]]]]\n",
      "Determinant:  [[  1.  ]\n",
      " [-78.48]]\n",
      "Rank:  [[2]\n",
      " [2]]\n",
      "The system is not observable\n"
     ]
    }
   ],
   "source": [
    "CA = np.dot(C,A)\n",
    "O = np.array([[C], [CA]])\n",
    "\n",
    "print(\"Observability Matrix: \", O)\n",
    "print(\"Determinant: \", np.linalg.det(O))\n",
    "print(\"Rank: \", np.linalg.matrix_rank(O))\n",
    "\n",
    "if np.linalg.matrix_rank == n:\n",
    "    print(\"The system is observable\")\n",
    "else:\n",
    "    print(\"The system is not observable\")"
   ]
  },
  {
   "cell_type": "code",
   "execution_count": null,
   "metadata": {},
   "outputs": [],
   "source": []
  }
 ],
 "metadata": {
  "kernelspec": {
   "display_name": "base",
   "language": "python",
   "name": "python3"
  },
  "language_info": {
   "codemirror_mode": {
    "name": "ipython",
    "version": 3
   },
   "file_extension": ".py",
   "mimetype": "text/x-python",
   "name": "python",
   "nbconvert_exporter": "python",
   "pygments_lexer": "ipython3",
   "version": "3.9.13"
  }
 },
 "nbformat": 4,
 "nbformat_minor": 2
}
