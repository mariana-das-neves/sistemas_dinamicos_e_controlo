{
 "cells": [
  {
   "cell_type": "markdown",
   "metadata": {},
   "source": [
    "# Sistemas Dinâmicos e Controlo - Projeto"
   ]
  },
  {
   "cell_type": "code",
   "execution_count": 1,
   "metadata": {},
   "outputs": [],
   "source": [
    "import numpy as np\n",
    "import matplotlib.pyplot as plt\n",
    "from scipy.signal import StateSpace, lsim, step\n",
    "from pprint import pprint"
   ]
  },
  {
   "cell_type": "code",
   "execution_count": 2,
   "metadata": {},
   "outputs": [],
   "source": [
    "m = 1.5 * 10 ** -1 # motorcycle mass\n",
    "g = 9.81 # gravity\n",
    "h = 8.0 * 10 ** -1 # height of center of mass\n",
    "I = 1.5 * 10 ** -2 # moment of inertia"
   ]
  },
  {
   "cell_type": "markdown",
   "metadata": {},
   "source": [
    "## Ex. 1"
   ]
  },
  {
   "cell_type": "markdown",
   "metadata": {},
   "source": [
    "$$ I \\ddot{\\theta} = mgh \\cdot sin(\\theta) + \\tau $$\n",
    "\n",
    "At small angles $ sin(\\theta) \\approx \\theta $.\n",
    "\n",
    "$$ I \\ddot{\\theta} = mgh \\cdot \\theta + \\tau $$\n",
    "\n",
    "$$ \\ddot{\\theta} = \\frac{mgh \\cdot \\theta}{I} + \\frac{\\tau}{I} $$\n",
    "\n",
    "$$ x = \\begin{bmatrix} \n",
    " \\theta \\\\\n",
    " \\dot{\\theta} \\\\\n",
    "\\end{bmatrix} \\Leftrightarrow \\dot{x} = \\begin{bmatrix} \n",
    " \\dot{\\theta} \\\\\n",
    " \\ddot{\\theta} \\\\\n",
    "\\end{bmatrix} \\Leftrightarrow \\dot{x} = \\begin{bmatrix} \n",
    " \\dot{\\theta} \\\\\n",
    " \\frac{mgh}{I}\\cdot \\theta + \\frac{\\tau}{I} \\\\\n",
    "\\end{bmatrix} \\Leftrightarrow \\dot{x} = \\begin{bmatrix} \n",
    " \\dot{\\theta} \\\\\n",
    " \\frac{mgh}{I}\\cdot \\theta \\\\\n",
    "\\end{bmatrix} + \\begin{bmatrix}\n",
    "0 \\\\\n",
    "\\frac{\\tau}{I}\n",
    "\\end{bmatrix}  \\Leftrightarrow \\dot{x} = \\begin{bmatrix} \n",
    " 0 & 1 \\\\\n",
    " \\frac{mgh}{I}  & 0\\\\\n",
    "\\end{bmatrix} \\begin{bmatrix}\n",
    " \\theta \\\\\n",
    " \\dot{\\theta}\n",
    "\\end{bmatrix} + \\begin{bmatrix}\n",
    "0 \\\\\n",
    "\\frac{\\tau}{I}\n",
    "\\end{bmatrix}  $$\n",
    "\n",
    "Since $ u = \\tau $:\n",
    "\n",
    "$$\n",
    "\\dot{x} = \\begin{bmatrix} \n",
    " 0 & 1 \\\\\n",
    " \\frac{mgh}{I}  & 0\\\\\n",
    "\\end{bmatrix} \\begin{bmatrix}\n",
    " \\theta \\\\\n",
    " \\dot{\\theta}\n",
    "\\end{bmatrix} + \\begin{bmatrix}\n",
    "0 \\\\\n",
    "\\frac{1}{I}\n",
    "\\end{bmatrix} u $$\n",
    "\n",
    "Since $\\theta$ and $\\dot{\\theta}$ are also the output, $y$:\n",
    "\n",
    "$$ y = C \\cdot x \\Leftrightarrow y = C \\cdot \\begin{bmatrix}\n",
    "\\theta \\\\ \\dot \\theta\n",
    "\\end{bmatrix} \\Leftrightarrow y = \\begin{bmatrix}\n",
    "1 & 0 \\\\\n",
    "0 & 1 \\\\\n",
    "\\end{bmatrix} \\cdot \\begin{bmatrix}\n",
    "\\theta \\\\ \\dot \\theta\n",
    "\\end{bmatrix} \\Leftrightarrow C = \\begin{bmatrix}\n",
    "1 & 0 \\\\\n",
    "0 & 1 \\\\\n",
    "\\end{bmatrix} $$\n",
    " \n"
   ]
  },
  {
   "cell_type": "code",
   "execution_count": 3,
   "metadata": {},
   "outputs": [
    {
     "name": "stdout",
     "output_type": "stream",
     "text": [
      "Matriz A: \n",
      "array([[ 0.  ,  1.  ],\n",
      "       [78.48,  0.  ]])\n",
      "Matrix B: \n",
      "array([[ 0.        ],\n",
      "       [66.66666667]])\n",
      "Matrix C: \n",
      "array([[1, 0],\n",
      "       [0, 1]])\n"
     ]
    }
   ],
   "source": [
    "A = np.array([[0, 1],[m * g * h / I, 0]])\n",
    "B = np.array([[0],[1 / I]])\n",
    "C = np.array([[1, 0],[0, 1]])\n",
    "D = np.array([[0],[0]])\n",
    "\n",
    "print(\"Matriz A: \")\n",
    "pprint(A)\n",
    "print(\"Matrix B: \")\n",
    "pprint(B)\n",
    "print(\"Matrix C: \")\n",
    "pprint(C)"
   ]
  },
  {
   "cell_type": "markdown",
   "metadata": {},
   "source": [
    "## Ex.2"
   ]
  },
  {
   "cell_type": "markdown",
   "metadata": {},
   "source": [
    "Controlability Matrix:\n",
    "\n",
    "$$ Q = \\begin{bmatrix} B & AB & A^{2}B & ... & A^{n-1}B \\end{bmatrix} $$\n",
    "\n",
    "Since $n=2$ and the controlability matrix is squared, if $ |Q| \\neq 0 $, the system is controllable, if $ |Q| = 0 $, the system is not controllable.\n",
    "\n",
    "$$ Q = \\begin{bmatrix} B & AB  \\end{bmatrix} $$\n",
    "\n",
    "Other way to check, is to see if $rank(Q)=n$, then it's controllable."
   ]
  },
  {
   "cell_type": "code",
   "execution_count": 4,
   "metadata": {},
   "outputs": [],
   "source": [
    "Q = np.hstack([B, A @ B])\n",
    "n=2"
   ]
  },
  {
   "cell_type": "code",
   "execution_count": 5,
   "metadata": {},
   "outputs": [
    {
     "name": "stdout",
     "output_type": "stream",
     "text": [
      "Controlability Matrix: \n",
      "array([[ 0.        , 66.66666667],\n",
      "       [66.66666667,  0.        ]])\n",
      "Determinant:  -4444.444444444446\n",
      "Rank:  2\n",
      "According to the determinant, the system is controllable\n",
      "According to the rank, the system is controllable.\n"
     ]
    }
   ],
   "source": [
    "print(\"Controlability Matrix: \")\n",
    "pprint(Q)\n",
    "print(\"Determinant: \", np.linalg.det(Q))\n",
    "print(\"Rank: \", np.linalg.matrix_rank(Q))\n",
    "\n",
    "if np.linalg.det(Q) != 0:\n",
    "    print(\"According to the determinant, the system is controllable\")\n",
    "else:\n",
    "    print(\"According to the determinant, the system is not controllable\")\n",
    "\n",
    "if np.linalg.matrix_rank(Q) == n:\n",
    "    print(\"According to the rank, the system is controllable.\")\n",
    "else:\n",
    "    print(\"According to the rank, the system is not controllable.\")"
   ]
  },
  {
   "cell_type": "markdown",
   "metadata": {},
   "source": [
    "Observability Matrix:\n",
    "\n",
    "\n",
    "$$ O = \\begin{bmatrix} C \\\\ CA \\\\ CA^{2} \\\\ ... \\\\ CA^{n-1} \\end{bmatrix} $$\n",
    "\n",
    "If $rank(O)=n$, it's observable."
   ]
  },
  {
   "cell_type": "code",
   "execution_count": 6,
   "metadata": {},
   "outputs": [
    {
     "name": "stdout",
     "output_type": "stream",
     "text": [
      "Observability Matrix:\n",
      "array([[ 1.  ,  0.  ],\n",
      "       [ 0.  ,  1.  ],\n",
      "       [ 0.  ,  1.  ],\n",
      "       [78.48,  0.  ]])\n",
      "Rank:  2\n",
      "According to the rank, the system is observable.\n"
     ]
    }
   ],
   "source": [
    "O = np.vstack([C, C @ A])  # Stack rows for observability\n",
    "\n",
    "print(\"Observability Matrix:\")\n",
    "pprint(O)\n",
    "print(\"Rank: \", np.linalg.matrix_rank(O))\n",
    "\n",
    "if np.linalg.matrix_rank(O) == n: #n continua a ser 2 porque é o número de estados\n",
    "    print(\"According to the rank, the system is observable.\")\n",
    "else:\n",
    "    print(\"According to the rank, the system is not observable.\")"
   ]
  },
  {
   "cell_type": "markdown",
   "metadata": {},
   "source": [
    "Stability:\n",
    "\n",
    "A system is stable if the real part of the eigenvalues is negative."
   ]
  },
  {
   "cell_type": "code",
   "execution_count": 14,
   "metadata": {},
   "outputs": [
    {
     "name": "stdout",
     "output_type": "stream",
     "text": [
      "Eigenvalues:  [ 8.85889384 -8.85889384]\n",
      "The system is not stable.\n"
     ]
    }
   ],
   "source": [
    "eigval, eigvect = np.linalg.eig(A)\n",
    "\n",
    "print(\"Eigenvalues: \",eigval)\n",
    "\n",
    "if eigval.real.any()<0: \n",
    "    print(\"The system is stable.\")\n",
    "else:\n",
    "    print(\"The system is not stable.\")"
   ]
  },
  {
   "cell_type": "markdown",
   "metadata": {},
   "source": [
    "To stabilize this system, we can introduce a controller $K=[k_1 k_2]$ such that it stabilizes with poles at the system eigenvalues:\n",
    "\n",
    "$$ det(sI-A+BK) = (s-\\lambda_1)(s-\\lambda_2) = s^2 - \\lambda^2 $$\n",
    "\n",
    "Where: \n",
    "\n",
    "$$ det(sI-A+BK) =  \n",
    "det \\begin{bmatrix} \n",
    " s & 1 \\\\\n",
    " -\\frac{mgh}{I}+\\frac{k_1}{I}  & s+\\frac{k_2}{I}\\\\\n",
    "\\end{bmatrix}  = s^2 + \\frac{k_2}{I}s -1(\\frac{k_1}{I}-\\frac{mgh}{I})\n",
    "$$\n",
    "\n",
    "So:\n",
    "\n",
    "$$ k_2=0 $$ and $$ k_1=I\\lambda^2 + mgh $$\n",
    "\n",
    "This way, the system can be stabilized."
   ]
  },
  {
   "cell_type": "code",
   "execution_count": 15,
   "metadata": {},
   "outputs": [
    {
     "name": "stdout",
     "output_type": "stream",
     "text": [
      "Controller:  [1.31008341 0.        ]\n"
     ]
    }
   ],
   "source": [
    "K = np.hstack([I*eigval[0]+m*g*h,0])\n",
    "\n",
    "print(\"Controller: \",K)"
   ]
  },
  {
   "cell_type": "markdown",
   "metadata": {},
   "source": [
    "## Ex.3"
   ]
  },
  {
   "cell_type": "markdown",
   "metadata": {},
   "source": [
    "#### a) Step input, u = 10**-2, and non-null initial conditions, x0 = [x01, x02]"
   ]
  },
  {
   "cell_type": "markdown",
   "metadata": {},
   "source": [
    "#### b) Null input, u = 0, and non-null initial conditions, x0 = [x01, x02]"
   ]
  },
  {
   "cell_type": "code",
   "execution_count": 16,
   "metadata": {},
   "outputs": [
    {
     "ename": "ValueError",
     "evalue": "The input arrays have incompatible shapes.",
     "output_type": "error",
     "traceback": [
      "\u001b[1;31m---------------------------------------------------------------------------\u001b[0m",
      "\u001b[1;31mValueError\u001b[0m                                Traceback (most recent call last)",
      "Cell \u001b[1;32mIn[16], line 6\u001b[0m\n\u001b[0;32m      4\u001b[0m x0 \u001b[38;5;241m=\u001b[39m [\u001b[38;5;241m0\u001b[39m, \u001b[38;5;241m0\u001b[39m]                  \u001b[38;5;66;03m# Initial conditions\u001b[39;00m\n\u001b[0;32m      5\u001b[0m D \u001b[38;5;241m=\u001b[39m np\u001b[38;5;241m.\u001b[39mzeros((\u001b[38;5;241m1\u001b[39m, \u001b[38;5;241m1\u001b[39m))\n\u001b[1;32m----> 6\u001b[0m system \u001b[38;5;241m=\u001b[39m \u001b[43mStateSpace\u001b[49m\u001b[43m(\u001b[49m\u001b[43mA\u001b[49m\u001b[43m,\u001b[49m\u001b[43m \u001b[49m\u001b[43mB\u001b[49m\u001b[43m,\u001b[49m\u001b[43m \u001b[49m\u001b[43mC\u001b[49m\u001b[43m,\u001b[49m\u001b[43m \u001b[49m\u001b[43mD\u001b[49m\u001b[43m)\u001b[49m\n\u001b[0;32m      8\u001b[0m \u001b[38;5;66;03m# Simulate the system\u001b[39;00m\n\u001b[0;32m      9\u001b[0m time, y1, x \u001b[38;5;241m=\u001b[39m lsim(system, u, t, x0)\n",
      "File \u001b[1;32m~\\anaconda3\\lib\\site-packages\\scipy\\signal\\_ltisys.py:1349\u001b[0m, in \u001b[0;36mStateSpace.__init__\u001b[1;34m(self, *system, **kwargs)\u001b[0m\n\u001b[0;32m   1346\u001b[0m \u001b[38;5;28mself\u001b[39m\u001b[38;5;241m.\u001b[39m_C \u001b[38;5;241m=\u001b[39m \u001b[38;5;28;01mNone\u001b[39;00m\n\u001b[0;32m   1347\u001b[0m \u001b[38;5;28mself\u001b[39m\u001b[38;5;241m.\u001b[39m_D \u001b[38;5;241m=\u001b[39m \u001b[38;5;28;01mNone\u001b[39;00m\n\u001b[1;32m-> 1349\u001b[0m \u001b[38;5;28mself\u001b[39m\u001b[38;5;241m.\u001b[39mA, \u001b[38;5;28mself\u001b[39m\u001b[38;5;241m.\u001b[39mB, \u001b[38;5;28mself\u001b[39m\u001b[38;5;241m.\u001b[39mC, \u001b[38;5;28mself\u001b[39m\u001b[38;5;241m.\u001b[39mD \u001b[38;5;241m=\u001b[39m \u001b[43mabcd_normalize\u001b[49m\u001b[43m(\u001b[49m\u001b[38;5;241;43m*\u001b[39;49m\u001b[43msystem\u001b[49m\u001b[43m)\u001b[49m\n",
      "File \u001b[1;32m~\\anaconda3\\lib\\site-packages\\scipy\\signal\\_lti_conversion.py:191\u001b[0m, in \u001b[0;36mabcd_normalize\u001b[1;34m(A, B, C, D)\u001b[0m\n\u001b[0;32m    189\u001b[0m B \u001b[38;5;241m=\u001b[39m _restore(B, (p, q))\n\u001b[0;32m    190\u001b[0m C \u001b[38;5;241m=\u001b[39m _restore(C, (r, p))\n\u001b[1;32m--> 191\u001b[0m D \u001b[38;5;241m=\u001b[39m \u001b[43m_restore\u001b[49m\u001b[43m(\u001b[49m\u001b[43mD\u001b[49m\u001b[43m,\u001b[49m\u001b[43m \u001b[49m\u001b[43m(\u001b[49m\u001b[43mr\u001b[49m\u001b[43m,\u001b[49m\u001b[43m \u001b[49m\u001b[43mq\u001b[49m\u001b[43m)\u001b[49m\u001b[43m)\u001b[49m\n\u001b[0;32m    193\u001b[0m \u001b[38;5;28;01mreturn\u001b[39;00m A, B, C, D\n",
      "File \u001b[1;32m~\\anaconda3\\lib\\site-packages\\scipy\\signal\\_lti_conversion.py:145\u001b[0m, in \u001b[0;36m_restore\u001b[1;34m(M, shape)\u001b[0m\n\u001b[0;32m    143\u001b[0m \u001b[38;5;28;01melse\u001b[39;00m:\n\u001b[0;32m    144\u001b[0m     \u001b[38;5;28;01mif\u001b[39;00m M\u001b[38;5;241m.\u001b[39mshape \u001b[38;5;241m!=\u001b[39m shape:\n\u001b[1;32m--> 145\u001b[0m         \u001b[38;5;28;01mraise\u001b[39;00m \u001b[38;5;167;01mValueError\u001b[39;00m(\u001b[38;5;124m\"\u001b[39m\u001b[38;5;124mThe input arrays have incompatible shapes.\u001b[39m\u001b[38;5;124m\"\u001b[39m)\n\u001b[0;32m    146\u001b[0m     \u001b[38;5;28;01mreturn\u001b[39;00m M\n",
      "\u001b[1;31mValueError\u001b[0m: The input arrays have incompatible shapes."
     ]
    }
   ],
   "source": [
    "# Time Response\n",
    "t = np.linspace(0, 1, 50)\n",
    "u = 10**-2 * np.ones_like(t)  # Input matrix\n",
    "x0 = [0, 0]                  # Initial conditions\n",
    "D = np.zeros((1, 1))\n",
    "system = StateSpace(A, B, C, D)\n",
    "\n",
    "# Simulate the system\n",
    "time, y1, x = lsim(system, u, t, x0)\n",
    "\n",
    "t = np.linspace(0, 1, 50)\n",
    "u = 0 * np.ones_like(t) # transformar u em matriz\n",
    "x0 = [0.5, 0.5] # condicoes iniciais\n",
    "D = np.zeros((1, 1))\n",
    "system = StateSpace(A, B, C, D)\n",
    "\n",
    "# lsim -> simulate output of a continuous-time linear system\n",
    "time, y2, x = lsim(system, u, t, X0=x0)"
   ]
  },
  {
   "cell_type": "code",
   "execution_count": 17,
   "metadata": {},
   "outputs": [
    {
     "ename": "NameError",
     "evalue": "name 'y1' is not defined",
     "output_type": "error",
     "traceback": [
      "\u001b[1;31m---------------------------------------------------------------------------\u001b[0m",
      "\u001b[1;31mNameError\u001b[0m                                 Traceback (most recent call last)",
      "Cell \u001b[1;32mIn[17], line 1\u001b[0m\n\u001b[1;32m----> 1\u001b[0m plt\u001b[38;5;241m.\u001b[39mplot(t, \u001b[43my1\u001b[49m, label\u001b[38;5;241m=\u001b[39m\u001b[38;5;124m\"\u001b[39m\u001b[38;5;124mx0=[0,0], u = 10^-2\u001b[39m\u001b[38;5;124m\"\u001b[39m)\n\u001b[0;32m      2\u001b[0m plt\u001b[38;5;241m.\u001b[39mplot(t, y2, label\u001b[38;5;241m=\u001b[39m\u001b[38;5;124m\"\u001b[39m\u001b[38;5;124mx0=[0.5,0.5], u = 0\u001b[39m\u001b[38;5;124m\"\u001b[39m)\n\u001b[0;32m      3\u001b[0m plt\u001b[38;5;241m.\u001b[39mtitle(\u001b[38;5;124m\"\u001b[39m\u001b[38;5;124mTime Response: Step Input (u = 10^-2)\u001b[39m\u001b[38;5;124m\"\u001b[39m)\n",
      "\u001b[1;31mNameError\u001b[0m: name 'y1' is not defined"
     ]
    }
   ],
   "source": [
    "plt.plot(t, y1, label=\"x0=[0,0], u = 10^-2\")\n",
    "plt.plot(t, y2, label=\"x0=[0.5,0.5], u = 0\")\n",
    "plt.title(\"Time Response: Step Input (u = 10^-2)\")\n",
    "plt.xlabel(\"Time (s)\")\n",
    "plt.ylabel(\"Response\")\n",
    "plt.legend()\n",
    "plt.grid()"
   ]
  },
  {
   "cell_type": "markdown",
   "metadata": {},
   "source": [
    "## Design of Controllers in State Space"
   ]
  },
  {
   "cell_type": "markdown",
   "metadata": {},
   "source": [
    "### Ex.4"
   ]
  },
  {
   "cell_type": "markdown",
   "metadata": {},
   "source": []
  }
 ],
 "metadata": {
  "kernelspec": {
   "display_name": "Python 3 (ipykernel)",
   "language": "python",
   "name": "python3"
  },
  "language_info": {
   "codemirror_mode": {
    "name": "ipython",
    "version": 3
   },
   "file_extension": ".py",
   "mimetype": "text/x-python",
   "name": "python",
   "nbconvert_exporter": "python",
   "pygments_lexer": "ipython3",
   "version": "3.10.9"
  }
 },
 "nbformat": 4,
 "nbformat_minor": 2
}
