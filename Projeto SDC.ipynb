{
 "cells": [
  {
   "cell_type": "markdown",
   "metadata": {},
   "source": [
    "# Sistemas Dinâmicos e Controlo - Projeto"
   ]
  },
  {
   "cell_type": "code",
   "execution_count": 196,
   "metadata": {},
   "outputs": [],
   "source": [
    "import numpy as np\n",
    "import matplotlib.pyplot as plt\n",
    "from scipy.signal import StateSpace, lsim, step"
   ]
  },
  {
   "cell_type": "code",
   "execution_count": 197,
   "metadata": {},
   "outputs": [],
   "source": [
    "m = 1.5 * 10 ** -1 # motorcycle mass\n",
    "g = 9.81 # gravity\n",
    "h = 8.0 * 10 ** -1 # height of center of mass\n",
    "I = 1.5 * 10 ** -2 # moment of inertia"
   ]
  },
  {
   "cell_type": "markdown",
   "metadata": {},
   "source": [
    "### Ex. 1"
   ]
  },
  {
   "cell_type": "markdown",
   "metadata": {},
   "source": [
    "$$ I \\ddot{\\theta} = mgh \\cdot sin(\\theta) + \\tau $$\n",
    "\n",
    "At small angles $ sin(\\theta) \\approx \\theta $.\n",
    "\n",
    "$$ I \\ddot{\\theta} = mgh \\cdot \\theta + \\tau $$\n",
    "\n",
    "$$ \\ddot{\\theta} = \\frac{mgh \\cdot \\theta}{I} + \\frac{\\tau}{I} $$\n",
    "\n",
    "$$ x = \\begin{bmatrix} \n",
    " \\theta \\\\\n",
    " \\dot{\\theta} \\\\\n",
    "\\end{bmatrix} \\Leftrightarrow \\dot{x} = \\begin{bmatrix} \n",
    " \\dot{\\theta} \\\\\n",
    " \\ddot{\\theta} \\\\\n",
    "\\end{bmatrix} \\Leftrightarrow \\dot{x} = \\begin{bmatrix} \n",
    " \\dot{\\theta} \\\\\n",
    " \\frac{mgh}{I}\\cdot \\theta + \\frac{\\tau}{I} \\\\\n",
    "\\end{bmatrix} \\Leftrightarrow \\dot{x} = \\begin{bmatrix} \n",
    " \\dot{\\theta} \\\\\n",
    " \\frac{mgh}{I}\\cdot \\theta \\\\\n",
    "\\end{bmatrix} + \\begin{bmatrix}\n",
    "0 \\\\\n",
    "\\frac{\\tau}{I}\n",
    "\\end{bmatrix} u \\Leftrightarrow \\dot{x} = \\begin{bmatrix} \n",
    " 0 & 1 \\\\\n",
    " \\frac{mgh}{I}  & 0\\\\\n",
    "\\end{bmatrix} \\begin{bmatrix}\n",
    " \\theta \\\\\n",
    " \\dot{\\theta}\n",
    "\\end{bmatrix} + \\begin{bmatrix}\n",
    "0 \\\\\n",
    "\\frac{\\tau}{I}\n",
    "\\end{bmatrix} u $$\n",
    "\n",
    "Since $ u = \\tau $:\n",
    "\n",
    "$$\n",
    "\\dot{x} = \\begin{bmatrix} \n",
    " 0 & 1 \\\\\n",
    " \\frac{mgh}{I}  & 0\\\\\n",
    "\\end{bmatrix} \\begin{bmatrix}\n",
    " \\theta \\\\\n",
    " \\dot{\\theta}\n",
    "\\end{bmatrix} + \\begin{bmatrix}\n",
    "0 \\\\\n",
    "I\n",
    "\\end{bmatrix} u $$\n",
    "\n",
    "$$ y = C \\cdot x \\Leftrightarrow y = C \\cdot \\begin{bmatrix}\n",
    "\\theta \\\\ \\dot \\theta\n",
    "\\end{bmatrix} \\Leftrightarrow y = \\begin{bmatrix}\n",
    "1 & 0 \\\\\n",
    "0 & 1 \\\\\n",
    "\\end{bmatrix} \\cdot \\begin{bmatrix}\n",
    "\\theta \\\\ \\dot \\theta\n",
    "\\end{bmatrix} \\Leftrightarrow C = \\begin{bmatrix}\n",
    "1 & 0 \\\\\n",
    "0 & 1 \\\\\n",
    "\\end{bmatrix} $$\n",
    " \n"
   ]
  },
  {
   "cell_type": "code",
   "execution_count": 198,
   "metadata": {},
   "outputs": [
    {
     "name": "stdout",
     "output_type": "stream",
     "text": [
      "Matrix A:  [[ 0.    1.  ]\n",
      " [78.48  0.  ]]\n",
      "Matrix B:  [[ 0.        ]\n",
      " [66.66666667]]\n",
      "Matrix C:  [[1 0]]\n"
     ]
    }
   ],
   "source": [
    "A = np.array([[0, 1],\n",
    "              [m * g * h / I, 0]])\n",
    "B = np.array([[0],\n",
    "              [1 / I]])\n",
    "C = np.array([[1, 0]])\n",
    "D = np.array([[0]])\n",
    "print(\"Matrix A: \", A)\n",
    "print(\"Matrix B: \", B)\n",
    "print(\"Matrix C: \", C)"
   ]
  },
  {
   "cell_type": "markdown",
   "metadata": {},
   "source": [
    "### Ex.2"
   ]
  },
  {
   "cell_type": "markdown",
   "metadata": {},
   "source": [
    "Controlability Matrix:\n",
    "\n",
    "$$ Q = \\begin{bmatrix} B & AB & A^{2}B & ... & A^{n-1}B \\end{bmatrix} $$\n",
    "\n",
    "$ |Q| = 0 $, the system is controllable, $ |Q| \\neq 0 $, the system is not controllable."
   ]
  },
  {
   "cell_type": "code",
   "execution_count": 199,
   "metadata": {},
   "outputs": [],
   "source": [
    "n = 2\n",
    "AB = A @ B\n",
    "Q = np.zeros((n,n))\n",
    "Q[0,0] = B[0,0]\n",
    "Q[1,0] = B[1,0]\n",
    "Q[0,1] = AB[0,0]\n",
    "Q[1,1] = AB[1,0]"
   ]
  },
  {
   "cell_type": "code",
   "execution_count": 200,
   "metadata": {},
   "outputs": [
    {
     "name": "stdout",
     "output_type": "stream",
     "text": [
      "Controlability Matrix:  [[ 0.         66.66666667]\n",
      " [66.66666667  0.        ]]\n",
      "Determinant:  -4444.444444444446\n",
      "Rank:  2\n",
      "The system is not controllable\n",
      "The system is not controllable\n"
     ]
    }
   ],
   "source": [
    "print(\"Controlability Matrix: \", Q)\n",
    "print(\"Determinant: \", np.linalg.det(Q))\n",
    "print(\"Rank: \", np.linalg.matrix_rank(Q))\n",
    "\n",
    "if np.linalg.det(Q) == 0:\n",
    "    print(\" The system is controllable\")\n",
    "else:\n",
    "    print(\"The system is not controllable\")\n",
    "\n",
    "if np.linalg.matrix_rank == n:\n",
    "    print(\"The system is controllable\")\n",
    "else:\n",
    "    print(\"The system is not controllable\")"
   ]
  },
  {
   "cell_type": "markdown",
   "metadata": {},
   "source": [
    "Observability Matrix:\n",
    "\n",
    "\n",
    "$$ O = \\begin{bmatrix} C \\\\ CA \\\\ CA^{2} \\\\ ... \\\\ CA^{n-1} \\end{bmatrix} $$\n",
    "\n",
    "$rank(O) = n$ => Observable"
   ]
  },
  {
   "cell_type": "code",
   "execution_count": 201,
   "metadata": {},
   "outputs": [
    {
     "name": "stdout",
     "output_type": "stream",
     "text": [
      "Observability Matrix:  [[1. 0.]\n",
      " [0. 1.]]\n",
      "Determinant:  1.0\n",
      "Rank:  2\n",
      "The system is not observable\n"
     ]
    }
   ],
   "source": [
    "CA = C @ A\n",
    "O = np.zeros((n, n))\n",
    "\n",
    "O[0,0] = C[0][0]\n",
    "O[0,1] = C[0][1]\n",
    "O[1,0] = CA[0][0]\n",
    "O[1,1] = CA[0][1]\n",
    "\n",
    "print(\"Observability Matrix: \", O)\n",
    "print(\"Determinant: \", np.linalg.det(O))\n",
    "print(\"Rank: \", np.linalg.matrix_rank(O))\n",
    "\n",
    "if np.linalg.matrix_rank == n:\n",
    "    print(\"The system is observable\")\n",
    "else:\n",
    "    print(\"The system is not observable\")"
   ]
  },
  {
   "cell_type": "markdown",
   "metadata": {},
   "source": [
    "### Ex.3"
   ]
  },
  {
   "cell_type": "markdown",
   "metadata": {},
   "source": [
    "#### a) Step input, u = 10**-2, and non-null initial conditions, x0 = [x01, x02]"
   ]
  },
  {
   "cell_type": "markdown",
   "metadata": {},
   "source": [
    "#### b) Null input, u = 0, and non-null initial conditions, x0 = [x01, x02]"
   ]
  },
  {
   "cell_type": "code",
   "execution_count": 202,
   "metadata": {},
   "outputs": [],
   "source": [
    "# Time Response\n",
    "t = np.linspace(0, 1, 50)\n",
    "u = 10**-2 * np.ones_like(t)  # Input matrix\n",
    "x0 = [0, 0]                  # Initial conditions\n",
    "D = np.zeros((1, 1))\n",
    "system = StateSpace(A, B, C, D)\n",
    "\n",
    "# Simulate the system\n",
    "time, y1, x = lsim(system, u, t, x0)\n",
    "\n",
    "t = np.linspace(0, 1, 50)\n",
    "u = 0 * np.ones_like(t) # transformar u em matriz\n",
    "x0 = [0.5, 0.5] # condicoes iniciais\n",
    "D = np.zeros((1, 1))\n",
    "system = StateSpace(A, B, C, D)\n",
    "\n",
    "# lsim -> simulate output of a continuous-time linear system\n",
    "time, y2, x = lsim(system, u, t, X0=x0)"
   ]
  },
  {
   "cell_type": "code",
   "execution_count": 203,
   "metadata": {},
   "outputs": [
    {
     "data": {
      "image/png": "[encoded data removed]",
      "text/plain": [
       "<Figure size 640x480 with 1 Axes>"
      ]
     },
     "metadata": {},
     "output_type": "display_data"
    }
   ],
   "source": [
    "plt.plot(t, y1, label=\"x0=[0,0], u = 10^-2\")\n",
    "plt.plot(t, y2, label=\"x0=[0.5,0.5], u = 0\")\n",
    "plt.title(\"Time Response: Step Input (u = 10^-2)\")\n",
    "plt.xlabel(\"Time (s)\")\n",
    "plt.ylabel(\"Response\")\n",
    "plt.legend()\n",
    "plt.grid()"
   ]
  },
  {
   "cell_type": "markdown",
   "metadata": {},
   "source": [
    "## Design of Controllers in State Space"
   ]
  },
  {
   "cell_type": "markdown",
   "metadata": {},
   "source": [
    "### Ex.4"
   ]
  },
  {
   "cell_type": "markdown",
   "metadata": {},
   "source": []
  }
 ],
 "metadata": {
  "kernelspec": {
   "display_name": "base",
   "language": "python",
   "name": "python3"
  },
  "language_info": {
   "codemirror_mode": {
    "name": "ipython",
    "version": 3
   },
   "file_extension": ".py",
   "mimetype": "text/x-python",
   "name": "python",
   "nbconvert_exporter": "python",
   "pygments_lexer": "ipython3",
   "version": "3.9.13"
  }
 },
 "nbformat": 4,
 "nbformat_minor": 2
}
